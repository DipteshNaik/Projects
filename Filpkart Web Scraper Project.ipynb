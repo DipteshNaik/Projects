{
 "cells": [
  {
   "cell_type": "code",
   "execution_count": null,
   "id": "eed2c016-6a53-4068-81e2-1e1a2bd6ea49",
   "metadata": {},
   "outputs": [],
   "source": [
    "from bs4 import BeautifulSoup\n",
    "import requests\n",
    "import time\n",
    "import datetime\n",
    "import smtplib"
   ]
  },
  {
   "cell_type": "code",
   "execution_count": null,
   "id": "800186bb-b7d3-4b18-96b7-599c602bed0e",
   "metadata": {},
   "outputs": [],
   "source": [
    "def check_product_price():\n",
    "    URL = 'https://www.flipkart.com/apple-iphone-15-pro-blue-titanium-512-gb/p/itm9f1a3ca9f55e5?pid=MOBGTAGPHCTYZHHZ&lid=LSTMOBGTAGPHCTYZHHZIORCCB&marketplace=FLIPKART&q=iphone+15+pro&store=tyy%2F4io&srno=s_1_1&otracker=AS_Query_OrganicAutoSuggest_3_6_na_na_na&otracker1=AS_Query_OrganicAutoSuggest_3_6_na_na_na&fm=organic&iid=3d60a4b0-100a-4cbf-879c-ee64dc474bf1.MOBGTAGPHCTYZHHZ.SEARCH&ppt=hp&ppn=homepage&ssid=i0g72agfz40000001722886730856&qH=c9de95b3b911a866'\n",
    "\n",
    "    headers = {\"User-Agent\": \"Mozilla/5.0 (Windows NT 10.0; Win64; x64) AppleWebKit/537.36 (KHTML, like Gecko) Chrome/78.0.3904.108 Safari/537.36\", \"Accept-Encoding\":\"gzip, deflate\", \"Accept\":\"text/html,application/xhtml+xml,application/xml;q=0.9,*/*;q=0.8\", \"DNT\":\"1\",\"Connection\":\"close\", \"Upgrade-Insecure-Requests\":\"1\"}\n",
    "\n",
    "    page = requests.get(URL, headers=headers)\n",
    "\n",
    "    soup1 = BeautifulSoup(page.content, \"html.parser\")\n",
    "\n",
    "    soup2 = BeautifulSoup(soup1.prettify(), \"html.parser\")\n",
    "\n",
    "    title_tag = soup2.find('span', {'class': 'VU-ZEz'})\n",
    "    title = title_tag.get_text(strip=True) if title_tag else \"Title not found\"\n",
    "    \n",
    "    price_tag = soup2.find('div', {'class': 'Nx9bqj CxhGGd'})\n",
    "    # price_tag = price_tag.strip()[1:]\n",
    "    price = price_tag.get_text(strip=True) if price_tag else \"Price not available\"\n",
    "    price = price.replace('₹', '').strip() if price else \"Price not available\"\n",
    "    \n",
    "    # print(\"Product Title:\", title)\n",
    "    # print(\"Price:\", price)\n",
    "\n",
    "    import datetime\n",
    "\n",
    "    today = datetime.date.today()\n",
    "    \n",
    "    import csv \n",
    "    import os\n",
    "\n",
    "    header = ['Title', 'Price', 'Date']\n",
    "    data = [title, price, today]\n",
    "    file_path = r\"C:\\Users\\dipte\\Music\\FlipkartWebScraperDataset.csv\"\n",
    "\n",
    "    file_exists = os.path.isfile(file_path)\n",
    "\n",
    "    with open(file_path, 'a+', newline='', encoding='UTF8') as f:\n",
    "        writer = csv.writer(f)\n",
    "        \n",
    "        # Write header if the file does not exist\n",
    "        if not file_exists:\n",
    "            writer.writerow(header)\n",
    "        \n",
    "        # Write the data row\n",
    "        writer.writerow(data)\n",
    "        "
   ]
  },
  {
   "cell_type": "code",
   "execution_count": null,
   "id": "75066a8c-da06-4eec-a8d5-5ade20980520",
   "metadata": {},
   "outputs": [],
   "source": [
    "while(True):\n",
    "    check_product_price()\n",
    "    time.sleep(86400)"
   ]
  },
  {
   "cell_type": "code",
   "execution_count": null,
   "id": "fc5268a1-6aa9-4f79-bfc6-737a687de5b5",
   "metadata": {},
   "outputs": [],
   "source": [
    "import pandas as pd\n",
    "\n",
    "df = pd.read_csv(r'C:\\Users\\dipte\\Music\\FlipkartWebScraperDataset.csv')\n",
    "\n",
    "print(df)"
   ]
  },
  {
   "cell_type": "code",
   "execution_count": null,
   "id": "bb85f117-27e6-4a99-b060-a04d63dbbd1b",
   "metadata": {},
   "outputs": [],
   "source": []
  },
  {
   "cell_type": "code",
   "execution_count": null,
   "id": "7e781eb3-cff3-409a-a64d-4cd18fa773fb",
   "metadata": {},
   "outputs": [],
   "source": []
  }
 ],
 "metadata": {
  "kernelspec": {
   "display_name": "Python 3 (ipykernel)",
   "language": "python",
   "name": "python3"
  },
  "language_info": {
   "codemirror_mode": {
    "name": "ipython",
    "version": 3
   },
   "file_extension": ".py",
   "mimetype": "text/x-python",
   "name": "python",
   "nbconvert_exporter": "python",
   "pygments_lexer": "ipython3",
   "version": "3.11.7"
  }
 },
 "nbformat": 4,
 "nbformat_minor": 5
}
